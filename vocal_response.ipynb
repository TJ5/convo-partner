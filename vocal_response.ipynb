{
 "cells": [
  {
   "cell_type": "code",
   "execution_count": 2,
   "id": "initial_id",
   "metadata": {
    "collapsed": true,
    "ExecuteTime": {
     "end_time": "2023-11-05T04:28:09.950180Z",
     "start_time": "2023-11-05T04:28:09.735342Z"
    }
   },
   "outputs": [
    {
     "ename": "OSError",
     "evalue": "cannot load library '/Users/vibhavsingamshetty/Documents/Programming/PycharmProjects/convo-partner/venv/lib/python3.9/site-packages/_soundfile_data/libsndfile.dylib': dlopen(/Users/vibhavsingamshetty/Documents/Programming/PycharmProjects/convo-partner/venv/lib/python3.9/site-packages/_soundfile_data/libsndfile.dylib, 0x0002): tried: '/Users/vibhavsingamshetty/Documents/Programming/PycharmProjects/convo-partner/venv/lib/python3.9/site-packages/_soundfile_data/libsndfile.dylib' (no such file), '/System/Volumes/Preboot/Cryptexes/OS/Users/vibhavsingamshetty/Documents/Programming/PycharmProjects/convo-partner/venv/lib/python3.9/site-packages/_soundfile_data/libsndfile.dylib' (no such file), '/Users/vibhavsingamshetty/Documents/Programming/PycharmProjects/convo-partner/venv/lib/python3.9/site-packages/_soundfile_data/libsndfile.dylib' (no such file).  Additionally, ctypes.util.find_library() did not manage to locate a library called '/Users/vibhavsingamshetty/Documents/Programming/PycharmProjects/convo-partner/venv/lib/python3.9/site-packages/_soundfile_data/libsndfile.dylib'",
     "output_type": "error",
     "traceback": [
      "\u001B[0;31m---------------------------------------------------------------------------\u001B[0m",
      "\u001B[0;31mOSError\u001B[0m                                   Traceback (most recent call last)",
      "File \u001B[0;32m~/Documents/Programming/PycharmProjects/convo-partner/venv/lib/python3.9/site-packages/soundfile.py:267\u001B[0m\n\u001B[1;32m    266\u001B[0m \u001B[38;5;28;01mtry\u001B[39;00m:\n\u001B[0;32m--> 267\u001B[0m     _snd \u001B[38;5;241m=\u001B[39m \u001B[43m_ffi\u001B[49m\u001B[38;5;241;43m.\u001B[39;49m\u001B[43mdlopen\u001B[49m\u001B[43m(\u001B[49m\u001B[38;5;124;43m'\u001B[39;49m\u001B[38;5;124;43msndfile\u001B[39;49m\u001B[38;5;124;43m'\u001B[39;49m\u001B[43m)\u001B[49m\n\u001B[1;32m    268\u001B[0m \u001B[38;5;28;01mexcept\u001B[39;00m \u001B[38;5;167;01mOSError\u001B[39;00m:\n",
      "File \u001B[0;32m~/Documents/Programming/PycharmProjects/convo-partner/venv/lib/python3.9/site-packages/cffi/api.py:150\u001B[0m, in \u001B[0;36mFFI.dlopen\u001B[0;34m(self, name, flags)\u001B[0m\n\u001B[1;32m    149\u001B[0m \u001B[38;5;28;01mwith\u001B[39;00m \u001B[38;5;28mself\u001B[39m\u001B[38;5;241m.\u001B[39m_lock:\n\u001B[0;32m--> 150\u001B[0m     lib, function_cache \u001B[38;5;241m=\u001B[39m \u001B[43m_make_ffi_library\u001B[49m\u001B[43m(\u001B[49m\u001B[38;5;28;43mself\u001B[39;49m\u001B[43m,\u001B[49m\u001B[43m \u001B[49m\u001B[43mname\u001B[49m\u001B[43m,\u001B[49m\u001B[43m \u001B[49m\u001B[43mflags\u001B[49m\u001B[43m)\u001B[49m\n\u001B[1;32m    151\u001B[0m     \u001B[38;5;28mself\u001B[39m\u001B[38;5;241m.\u001B[39m_function_caches\u001B[38;5;241m.\u001B[39mappend(function_cache)\n",
      "File \u001B[0;32m~/Documents/Programming/PycharmProjects/convo-partner/venv/lib/python3.9/site-packages/cffi/api.py:832\u001B[0m, in \u001B[0;36m_make_ffi_library\u001B[0;34m(ffi, libname, flags)\u001B[0m\n\u001B[1;32m    831\u001B[0m backend \u001B[38;5;241m=\u001B[39m ffi\u001B[38;5;241m.\u001B[39m_backend\n\u001B[0;32m--> 832\u001B[0m backendlib \u001B[38;5;241m=\u001B[39m \u001B[43m_load_backend_lib\u001B[49m\u001B[43m(\u001B[49m\u001B[43mbackend\u001B[49m\u001B[43m,\u001B[49m\u001B[43m \u001B[49m\u001B[43mlibname\u001B[49m\u001B[43m,\u001B[49m\u001B[43m \u001B[49m\u001B[43mflags\u001B[49m\u001B[43m)\u001B[49m\n\u001B[1;32m    833\u001B[0m \u001B[38;5;66;03m#\u001B[39;00m\n",
      "File \u001B[0;32m~/Documents/Programming/PycharmProjects/convo-partner/venv/lib/python3.9/site-packages/cffi/api.py:827\u001B[0m, in \u001B[0;36m_load_backend_lib\u001B[0;34m(backend, name, flags)\u001B[0m\n\u001B[1;32m    826\u001B[0m         msg \u001B[38;5;241m=\u001B[39m \u001B[38;5;124m\"\u001B[39m\u001B[38;5;132;01m%s\u001B[39;00m\u001B[38;5;124m.  Additionally, \u001B[39m\u001B[38;5;132;01m%s\u001B[39;00m\u001B[38;5;124m\"\u001B[39m \u001B[38;5;241m%\u001B[39m (first_error, msg)\n\u001B[0;32m--> 827\u001B[0m     \u001B[38;5;28;01mraise\u001B[39;00m \u001B[38;5;167;01mOSError\u001B[39;00m(msg)\n\u001B[1;32m    828\u001B[0m \u001B[38;5;28;01mreturn\u001B[39;00m backend\u001B[38;5;241m.\u001B[39mload_library(path, flags)\n",
      "\u001B[0;31mOSError\u001B[0m: ctypes.util.find_library() did not manage to locate a library called 'sndfile'",
      "\nDuring handling of the above exception, another exception occurred:\n",
      "\u001B[0;31mOSError\u001B[0m                                   Traceback (most recent call last)",
      "Cell \u001B[0;32mIn[2], line 5\u001B[0m\n\u001B[1;32m      3\u001B[0m \u001B[38;5;28;01mimport\u001B[39;00m \u001B[38;5;21;01mtempfile\u001B[39;00m\n\u001B[1;32m      4\u001B[0m \u001B[38;5;28;01mimport\u001B[39;00m \u001B[38;5;21;01msounddevice\u001B[39;00m \u001B[38;5;28;01mas\u001B[39;00m \u001B[38;5;21;01msd\u001B[39;00m\n\u001B[0;32m----> 5\u001B[0m \u001B[38;5;28;01mimport\u001B[39;00m \u001B[38;5;21;01msoundfile\u001B[39;00m \u001B[38;5;28;01mas\u001B[39;00m \u001B[38;5;21;01msf\u001B[39;00m\n\u001B[1;32m      6\u001B[0m \u001B[38;5;28;01mfrom\u001B[39;00m \u001B[38;5;21;01mpydub\u001B[39;00m \u001B[38;5;28;01mimport\u001B[39;00m AudioSegment\n",
      "File \u001B[0;32m~/Documents/Programming/PycharmProjects/convo-partner/venv/lib/python3.9/site-packages/soundfile.py:276\u001B[0m\n\u001B[1;32m    274\u001B[0m     \u001B[38;5;28;01melse\u001B[39;00m:\n\u001B[1;32m    275\u001B[0m         \u001B[38;5;28;01mraise\u001B[39;00m\n\u001B[0;32m--> 276\u001B[0m     _snd \u001B[38;5;241m=\u001B[39m \u001B[43m_ffi\u001B[49m\u001B[38;5;241;43m.\u001B[39;49m\u001B[43mdlopen\u001B[49m\u001B[43m(\u001B[49m\u001B[43m_os\u001B[49m\u001B[38;5;241;43m.\u001B[39;49m\u001B[43mpath\u001B[49m\u001B[38;5;241;43m.\u001B[39;49m\u001B[43mjoin\u001B[49m\u001B[43m(\u001B[49m\n\u001B[1;32m    277\u001B[0m \u001B[43m        \u001B[49m\u001B[43m_os\u001B[49m\u001B[38;5;241;43m.\u001B[39;49m\u001B[43mpath\u001B[49m\u001B[38;5;241;43m.\u001B[39;49m\u001B[43mdirname\u001B[49m\u001B[43m(\u001B[49m\u001B[43m_os\u001B[49m\u001B[38;5;241;43m.\u001B[39;49m\u001B[43mpath\u001B[49m\u001B[38;5;241;43m.\u001B[39;49m\u001B[43mabspath\u001B[49m\u001B[43m(\u001B[49m\u001B[38;5;18;43m__file__\u001B[39;49m\u001B[43m)\u001B[49m\u001B[43m)\u001B[49m\u001B[43m,\u001B[49m\n\u001B[1;32m    278\u001B[0m \u001B[43m        \u001B[49m\u001B[38;5;124;43m'\u001B[39;49m\u001B[38;5;124;43m_soundfile_data\u001B[39;49m\u001B[38;5;124;43m'\u001B[39;49m\u001B[43m,\u001B[49m\u001B[43m \u001B[49m\u001B[43m_libname\u001B[49m\u001B[43m)\u001B[49m\u001B[43m)\u001B[49m\n\u001B[1;32m    280\u001B[0m __libsndfile_version__ \u001B[38;5;241m=\u001B[39m _ffi\u001B[38;5;241m.\u001B[39mstring(_snd\u001B[38;5;241m.\u001B[39msf_version_string())\u001B[38;5;241m.\u001B[39mdecode(\u001B[38;5;124m'\u001B[39m\u001B[38;5;124mutf-8\u001B[39m\u001B[38;5;124m'\u001B[39m, \u001B[38;5;124m'\u001B[39m\u001B[38;5;124mreplace\u001B[39m\u001B[38;5;124m'\u001B[39m)\n\u001B[1;32m    281\u001B[0m \u001B[38;5;28;01mif\u001B[39;00m __libsndfile_version__\u001B[38;5;241m.\u001B[39mstartswith(\u001B[38;5;124m'\u001B[39m\u001B[38;5;124mlibsndfile-\u001B[39m\u001B[38;5;124m'\u001B[39m):\n",
      "File \u001B[0;32m~/Documents/Programming/PycharmProjects/convo-partner/venv/lib/python3.9/site-packages/cffi/api.py:150\u001B[0m, in \u001B[0;36mFFI.dlopen\u001B[0;34m(self, name, flags)\u001B[0m\n\u001B[1;32m    147\u001B[0m     \u001B[38;5;28;01mraise\u001B[39;00m \u001B[38;5;167;01mTypeError\u001B[39;00m(\u001B[38;5;124m\"\u001B[39m\u001B[38;5;124mdlopen(name): name must be a file name, None, \u001B[39m\u001B[38;5;124m\"\u001B[39m\n\u001B[1;32m    148\u001B[0m                     \u001B[38;5;124m\"\u001B[39m\u001B[38;5;124mor an already-opened \u001B[39m\u001B[38;5;124m'\u001B[39m\u001B[38;5;124mvoid *\u001B[39m\u001B[38;5;124m'\u001B[39m\u001B[38;5;124m handle\u001B[39m\u001B[38;5;124m\"\u001B[39m)\n\u001B[1;32m    149\u001B[0m \u001B[38;5;28;01mwith\u001B[39;00m \u001B[38;5;28mself\u001B[39m\u001B[38;5;241m.\u001B[39m_lock:\n\u001B[0;32m--> 150\u001B[0m     lib, function_cache \u001B[38;5;241m=\u001B[39m \u001B[43m_make_ffi_library\u001B[49m\u001B[43m(\u001B[49m\u001B[38;5;28;43mself\u001B[39;49m\u001B[43m,\u001B[49m\u001B[43m \u001B[49m\u001B[43mname\u001B[49m\u001B[43m,\u001B[49m\u001B[43m \u001B[49m\u001B[43mflags\u001B[49m\u001B[43m)\u001B[49m\n\u001B[1;32m    151\u001B[0m     \u001B[38;5;28mself\u001B[39m\u001B[38;5;241m.\u001B[39m_function_caches\u001B[38;5;241m.\u001B[39mappend(function_cache)\n\u001B[1;32m    152\u001B[0m     \u001B[38;5;28mself\u001B[39m\u001B[38;5;241m.\u001B[39m_libraries\u001B[38;5;241m.\u001B[39mappend(lib)\n",
      "File \u001B[0;32m~/Documents/Programming/PycharmProjects/convo-partner/venv/lib/python3.9/site-packages/cffi/api.py:832\u001B[0m, in \u001B[0;36m_make_ffi_library\u001B[0;34m(ffi, libname, flags)\u001B[0m\n\u001B[1;32m    830\u001B[0m \u001B[38;5;28;01mdef\u001B[39;00m \u001B[38;5;21m_make_ffi_library\u001B[39m(ffi, libname, flags):\n\u001B[1;32m    831\u001B[0m     backend \u001B[38;5;241m=\u001B[39m ffi\u001B[38;5;241m.\u001B[39m_backend\n\u001B[0;32m--> 832\u001B[0m     backendlib \u001B[38;5;241m=\u001B[39m \u001B[43m_load_backend_lib\u001B[49m\u001B[43m(\u001B[49m\u001B[43mbackend\u001B[49m\u001B[43m,\u001B[49m\u001B[43m \u001B[49m\u001B[43mlibname\u001B[49m\u001B[43m,\u001B[49m\u001B[43m \u001B[49m\u001B[43mflags\u001B[49m\u001B[43m)\u001B[49m\n\u001B[1;32m    833\u001B[0m     \u001B[38;5;66;03m#\u001B[39;00m\n\u001B[1;32m    834\u001B[0m     \u001B[38;5;28;01mdef\u001B[39;00m \u001B[38;5;21maccessor_function\u001B[39m(name):\n",
      "File \u001B[0;32m~/Documents/Programming/PycharmProjects/convo-partner/venv/lib/python3.9/site-packages/cffi/api.py:827\u001B[0m, in \u001B[0;36m_load_backend_lib\u001B[0;34m(backend, name, flags)\u001B[0m\n\u001B[1;32m    825\u001B[0m     \u001B[38;5;28;01mif\u001B[39;00m first_error \u001B[38;5;129;01mis\u001B[39;00m \u001B[38;5;129;01mnot\u001B[39;00m \u001B[38;5;28;01mNone\u001B[39;00m:\n\u001B[1;32m    826\u001B[0m         msg \u001B[38;5;241m=\u001B[39m \u001B[38;5;124m\"\u001B[39m\u001B[38;5;132;01m%s\u001B[39;00m\u001B[38;5;124m.  Additionally, \u001B[39m\u001B[38;5;132;01m%s\u001B[39;00m\u001B[38;5;124m\"\u001B[39m \u001B[38;5;241m%\u001B[39m (first_error, msg)\n\u001B[0;32m--> 827\u001B[0m     \u001B[38;5;28;01mraise\u001B[39;00m \u001B[38;5;167;01mOSError\u001B[39;00m(msg)\n\u001B[1;32m    828\u001B[0m \u001B[38;5;28;01mreturn\u001B[39;00m backend\u001B[38;5;241m.\u001B[39mload_library(path, flags)\n",
      "\u001B[0;31mOSError\u001B[0m: cannot load library '/Users/vibhavsingamshetty/Documents/Programming/PycharmProjects/convo-partner/venv/lib/python3.9/site-packages/_soundfile_data/libsndfile.dylib': dlopen(/Users/vibhavsingamshetty/Documents/Programming/PycharmProjects/convo-partner/venv/lib/python3.9/site-packages/_soundfile_data/libsndfile.dylib, 0x0002): tried: '/Users/vibhavsingamshetty/Documents/Programming/PycharmProjects/convo-partner/venv/lib/python3.9/site-packages/_soundfile_data/libsndfile.dylib' (no such file), '/System/Volumes/Preboot/Cryptexes/OS/Users/vibhavsingamshetty/Documents/Programming/PycharmProjects/convo-partner/venv/lib/python3.9/site-packages/_soundfile_data/libsndfile.dylib' (no such file), '/Users/vibhavsingamshetty/Documents/Programming/PycharmProjects/convo-partner/venv/lib/python3.9/site-packages/_soundfile_data/libsndfile.dylib' (no such file).  Additionally, ctypes.util.find_library() did not manage to locate a library called '/Users/vibhavsingamshetty/Documents/Programming/PycharmProjects/convo-partner/venv/lib/python3.9/site-packages/_soundfile_data/libsndfile.dylib'"
     ]
    }
   ],
   "source": [
    "from gtts import gTTS\n",
    "from playsound import playsound\n",
    "import tempfile\n",
    "import sounddevice as sd\n",
    "import soundfile as sf\n",
    "from pydub import AudioSegment"
   ]
  },
  {
   "cell_type": "code",
   "execution_count": null,
   "outputs": [],
   "source": [
    "text = \"That's great! Apples are a good source of fiber and vitamins. Do you have a favorite type of apple?\"\n",
    "tts = gTTS(text=text, lang='en', slow=False, tld='us')\n",
    "tts.save(\"response.mp3\")\n",
    "audio = AudioSegment.from_mp3(\"response.mp3\")\n",
    "audio.speedup(playback_speed=1.5).export(\"response.mp3\", format=\"mp3\")\n",
    "playsound(\"response.mp3\")"
   ],
   "metadata": {
    "collapsed": false
   },
   "id": "8a2efa34055e6b97"
  },
  {
   "cell_type": "code",
   "execution_count": null,
   "outputs": [],
   "source": [
    "# from TTS.api import TTS\n",
    "# \n",
    "# # Load the model to GPU\n",
    "# # Bark is really slow on CPU, so we recommend using GPU.\n",
    "# tts = TTS(\"tts_models/multilingual/multi-dataset/bark\", gpu=True)\n",
    "# \n",
    "# \n",
    "# # Cloning a new speaker\n",
    "# # This expects to find a mp3 or wav file like `bark_voices/new_speaker/speaker.wav`\n",
    "# # It computes the cloning values and stores in `bark_voices/new_speaker/speaker.npz`\n",
    "# tts.tts_to_file(text=\"Hello, my name is Manmay , how are you?\",\n",
    "#                 file_path=\"output.wav\",\n",
    "#                 voice_dir=\"bark_voices/\",\n",
    "#                 speaker=\"ljspeech\")\n",
    "# \n",
    "# \n",
    "# # When you run it again it uses the stored values to generate the voice.\n",
    "# tts.tts_to_file(text=\"Hello, my name is Manmay , how are you?\",\n",
    "#                 file_path=\"output.wav\",\n",
    "#                 voice_dir=\"bark_voices/\",\n",
    "#                 speaker=\"ljspeech\")\n",
    "# \n",
    "# \n",
    "# # random speaker\n",
    "# tts = TTS(\"tts_models/multilingual/multi-dataset/bark\", gpu=True)\n",
    "# tts.tts_to_file(\"hello world\", file_path=\"out.wav\")"
   ],
   "metadata": {
    "collapsed": false
   },
   "id": "c9c296f5752fb9b"
  }
 ],
 "metadata": {
  "kernelspec": {
   "display_name": "Python 3",
   "language": "python",
   "name": "python3"
  },
  "language_info": {
   "codemirror_mode": {
    "name": "ipython",
    "version": 2
   },
   "file_extension": ".py",
   "mimetype": "text/x-python",
   "name": "python",
   "nbconvert_exporter": "python",
   "pygments_lexer": "ipython2",
   "version": "2.7.6"
  }
 },
 "nbformat": 4,
 "nbformat_minor": 5
}
