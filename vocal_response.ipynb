{
 "cells": [
  {
   "cell_type": "code",
   "execution_count": 1,
   "id": "initial_id",
   "metadata": {
    "collapsed": true,
    "ExecuteTime": {
     "end_time": "2023-11-05T04:32:41.545870Z",
     "start_time": "2023-11-05T04:32:41.270102Z"
    }
   },
   "outputs": [
    {
     "name": "stderr",
     "output_type": "stream",
     "text": [
      "/Users/vibhavsingamshetty/Documents/Programming/PycharmProjects/convo-partner/venv/lib/python3.9/site-packages/pydub/utils.py:170: RuntimeWarning: Couldn't find ffmpeg or avconv - defaulting to ffmpeg, but may not work\n",
      "  warn(\"Couldn't find ffmpeg or avconv - defaulting to ffmpeg, but may not work\", RuntimeWarning)\n"
     ]
    }
   ],
   "source": [
    "from gtts import gTTS\n",
    "from playsound import playsound\n",
    "from pydub import AudioSegment"
   ]
  },
  {
   "cell_type": "code",
   "execution_count": null,
   "outputs": [],
   "source": [
    "text = \"That's great! Apples are a good source of fiber and vitamins. Do you have a favorite type of apple?\"\n",
    "tts = gTTS(text=text, lang='en', slow=False, tld='us')\n",
    "tts.save(\"response.mp3\")\n",
    "audio = AudioSegment.from_mp3(\"response.mp3\")\n",
    "audio.speedup(playback_speed=1.5).export(\"response.mp3\", format=\"mp3\")\n",
    "playsound(\"response.mp3\")"
   ],
   "metadata": {
    "collapsed": false
   },
   "id": "8a2efa34055e6b97"
  },
  {
   "cell_type": "code",
   "execution_count": null,
   "outputs": [],
   "source": [
    "# from TTS.api import TTS\n",
    "# \n",
    "# # Load the model to GPU\n",
    "# # Bark is really slow on CPU, so we recommend using GPU.\n",
    "# tts = TTS(\"tts_models/multilingual/multi-dataset/bark\", gpu=True)\n",
    "# \n",
    "# \n",
    "# # Cloning a new speaker\n",
    "# # This expects to find a mp3 or wav file like `bark_voices/new_speaker/speaker.wav`\n",
    "# # It computes the cloning values and stores in `bark_voices/new_speaker/speaker.npz`\n",
    "# tts.tts_to_file(text=\"Hello, my name is Manmay , how are you?\",\n",
    "#                 file_path=\"output.wav\",\n",
    "#                 voice_dir=\"bark_voices/\",\n",
    "#                 speaker=\"ljspeech\")\n",
    "# \n",
    "# \n",
    "# # When you run it again it uses the stored values to generate the voice.\n",
    "# tts.tts_to_file(text=\"Hello, my name is Manmay , how are you?\",\n",
    "#                 file_path=\"output.wav\",\n",
    "#                 voice_dir=\"bark_voices/\",\n",
    "#                 speaker=\"ljspeech\")\n",
    "# \n",
    "# \n",
    "# # random speaker\n",
    "# tts = TTS(\"tts_models/multilingual/multi-dataset/bark\", gpu=True)\n",
    "# tts.tts_to_file(\"hello world\", file_path=\"out.wav\")"
   ],
   "metadata": {
    "collapsed": false
   },
   "id": "c9c296f5752fb9b"
  }
 ],
 "metadata": {
  "kernelspec": {
   "display_name": "Python 3",
   "language": "python",
   "name": "python3"
  },
  "language_info": {
   "codemirror_mode": {
    "name": "ipython",
    "version": 2
   },
   "file_extension": ".py",
   "mimetype": "text/x-python",
   "name": "python",
   "nbconvert_exporter": "python",
   "pygments_lexer": "ipython2",
   "version": "2.7.6"
  }
 },
 "nbformat": 4,
 "nbformat_minor": 5
}
