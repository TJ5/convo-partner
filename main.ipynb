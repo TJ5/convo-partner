{
 "cells": [
  {
   "cell_type": "code",
   "execution_count": 19,
   "id": "initial_id",
   "metadata": {
    "ExecuteTime": {
     "end_time": "2023-11-04T23:10:45.500999Z",
     "start_time": "2023-11-04T23:10:45.464064Z"
    },
    "collapsed": true
   },
   "outputs": [],
   "source": [
    "import os\n",
    "import openai\n",
    "import speech_recognition as sr\n",
    "import time\n",
    "import json"
   ]
  },
  {
   "cell_type": "markdown",
   "id": "925bc119",
   "metadata": {},
   "source": [
    "Read API Keys"
   ]
  },
  {
   "cell_type": "code",
   "execution_count": 20,
   "id": "b61bb633f391b91a",
   "metadata": {
    "ExecuteTime": {
     "end_time": "2023-11-04T23:10:45.505289Z",
     "start_time": "2023-11-04T23:10:45.467757Z"
    },
    "collapsed": false
   },
   "outputs": [],
   "source": [
    "with open('openai_key.txt') as f:\n",
    "    openai.api_key = f.read()\n",
    "\n",
    "with open('google_key.txt') as f:\n",
    "    GOOGLE_SPEECH_KEY = f.read()"
   ]
  },
  {
   "cell_type": "code",
   "execution_count": 21,
   "id": "d93f5734c77f9b63",
   "metadata": {
    "ExecuteTime": {
     "end_time": "2023-11-04T23:10:45.505933Z",
     "start_time": "2023-11-04T23:10:45.474877Z"
    },
    "collapsed": false
   },
   "outputs": [],
   "source": [
    "STARTING_PROMPT = 'What would you like to talk about today?'"
   ]
  },
  {
   "cell_type": "code",
   "execution_count": 22,
   "id": "6e06b142228439a6",
   "metadata": {
    "ExecuteTime": {
     "end_time": "2023-11-04T23:36:41.290805Z",
     "start_time": "2023-11-04T23:36:41.262561Z"
    },
    "collapsed": false
   },
   "outputs": [],
   "source": [
    "# Initialize recognizer and microphone\n",
    "r = sr.Recognizer()\n",
    "m = sr.Microphone()\n",
    "\n",
    "# Starting messages for the conversation\n",
    "messages = [\n",
    "    {\"role\": \"system\", \"content\": \"You are an English tutor holding a conversation with a student.\"},\n",
    "    {\"role\": \"assistant\", \"content\": \"Hello, what do you want to talk about?\"}\n",
    "]"
   ]
  },
  {
   "cell_type": "markdown",
   "metadata": {},
   "source": [
    "Define GPT Function Callbacks"
   ]
  },
  {
   "cell_type": "code",
   "execution_count": 23,
   "metadata": {},
   "outputs": [],
   "source": [
    "END_CONVERSATION = False\n",
    "def set_end_flag(end_conversation: bool):\n",
    "    \"\"\"Sets END_CONVERSATION to end_conversation\"\"\"\n",
    "    global END_CONVERSATION\n",
    "    END_CONVERSATION = end_conversation\n",
    "    return json.dumps({\n",
    "        \"conversation_terminated\": END_CONVERSATION\n",
    "    })\n",
    "user_score = 0\n",
    "\n",
    "functions = [\n",
    "    {\n",
    "        \"name\": \"set_end_flag\",\n",
    "        \"description\": \"Ends the current conversation\",\n",
    "        \"parameters\": {\n",
    "            \"type\": \"object\",\n",
    "            \"properties\": {\n",
    "                \"end_conversation\": {\n",
    "                    \"type \": \"boolean\",\n",
    "                    \"description\": \"Whether or not to end the conversation\"\n",
    "                }\n",
    "            },\n",
    "            \"required\": [\"end_conversation\"]\n",
    "        }\n",
    "    }\n",
    "]"
   ]
  },
  {
   "cell_type": "markdown",
   "metadata": {},
   "source": [
    "Conversation Loop"
   ]
  },
  {
   "cell_type": "code",
   "execution_count": 24,
   "id": "9600c7ede3bc93a6",
   "metadata": {
    "ExecuteTime": {
     "end_time": "2023-11-04T23:38:00.010177Z",
     "start_time": "2023-11-04T23:37:08.953237Z"
    },
    "collapsed": false
   },
   "outputs": [
    {
     "name": "stdout",
     "output_type": "stream",
     "text": [
      "Assistant: Hello, what do you want to talk about?\n",
      "You: (Speak now!)\n",
      "I'd like to talk about the weather\n",
      "Assistant: Sure, I'd be happy to talk about the weather. What aspect of the weather would you like to discuss?\n",
      "You: (Speak now!)\n",
      "actually I'd like to end this conversation goodbye\n"
     ]
    }
   ],
   "source": [
    "print(\"Assistant: Hello, what do you want to talk about?\")\n",
    "\n",
    "# Conversation loop\n",
    "while True:\n",
    "    # Listen to user's speech\n",
    "    with m as source:\n",
    "        r.adjust_for_ambient_noise(source)\n",
    "        print(\"You: (Speak now!)\")\n",
    "        audio = r.listen(source, phrase_time_limit=5)\n",
    "\n",
    "    # Convert speech to text\n",
    "    try:\n",
    "        user_speech = r.recognize_google(audio)\n",
    "    except sr.UnknownValueError:\n",
    "        print(\"Sorry, I couldn't understand that. Please try again.\")\n",
    "        continue\n",
    "    except sr.RequestError as e:\n",
    "        print(\"Could not request results from Google Speech Recognition service; {0}\".format(e))\n",
    "        break\n",
    "    \n",
    "    print(user_speech)\n",
    "    # Add user's message to the conversation\n",
    "    messages.append({\"role\": \"user\", \"content\": user_speech})\n",
    "\n",
    "    # Get a response from OpenAI API\n",
    "    response = openai.ChatCompletion.create(\n",
    "        model=\"gpt-3.5-turbo\",\n",
    "        messages=messages,\n",
    "        functions=functions\n",
    "    )\n",
    "\n",
    "    assistant_response = response.choices[0].message\n",
    "\n",
    "    # Check if a function was called\n",
    "    if assistant_response.get('function_call'):\n",
    "        available_functions = {\n",
    "            \"set_end_flag\": set_end_flag,\n",
    "        }  # only one function in this example, but you can have multiple\n",
    "        function_name = assistant_response[\"function_call\"][\"name\"]\n",
    "        function_to_call = available_functions[function_name]\n",
    "        function_args = json.loads(assistant_response[\"function_call\"][\"arguments\"])\n",
    "\n",
    "        function_response = function_to_call(\n",
    "            end_conversation=function_args.get(\"end_conversation\")\n",
    "        )\n",
    "        messages.append(assistant_response)\n",
    "        messages.append({\"role\": \"function\", \"name\": function_name, \"content\": function_response})\n",
    "        \n",
    "        second_response = openai.ChatCompletion.create(\n",
    "            model=\"gpt-3.5-turbo\",\n",
    "            messages=messages,\n",
    "        )  # get a new response from GPT where it can see the function response\n",
    "\n",
    "        messages.append(second_response.choices[0].message)\n",
    "    # Check for conversation end flag\n",
    "    if END_CONVERSATION:\n",
    "        break\n",
    "    \n",
    "    # If the function actually returned something, we'd send a second message here\n",
    "    \n",
    "    \n",
    "    print(f\"Assistant: {assistant_response.content}\")\n",
    "    messages.append(assistant_response)"
   ]
  },
  {
   "cell_type": "code",
   "execution_count": null,
   "id": "1cb624b1608541ac",
   "metadata": {
    "collapsed": false
   },
   "outputs": [],
   "source": []
  }
 ],
 "metadata": {
  "kernelspec": {
   "display_name": "Python 3",
   "language": "python",
   "name": "python3"
  },
  "language_info": {
   "codemirror_mode": {
    "name": "ipython",
    "version": 3
   },
   "file_extension": ".py",
   "mimetype": "text/x-python",
   "name": "python",
   "nbconvert_exporter": "python",
   "pygments_lexer": "ipython3",
   "version": "3.11.3"
  }
 },
 "nbformat": 4,
 "nbformat_minor": 5
}
