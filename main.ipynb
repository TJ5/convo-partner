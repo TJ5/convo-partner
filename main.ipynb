{
 "cells": [
  {
   "cell_type": "code",
   "execution_count": null,
   "id": "initial_id",
   "metadata": {
    "collapsed": true,
    "ExecuteTime": {
     "end_time": "2023-11-05T02:57:51.633887Z",
     "start_time": "2023-11-05T02:57:51.626080Z"
    }
   },
   "outputs": [],
   "source": [
    "import os\n",
    "import openai\n",
    "import speech_recognition as sr\n",
    "import time\n",
    "import json"
   ]
  },
  {
   "cell_type": "markdown",
   "id": "925bc119",
   "metadata": {},
   "source": [
    "Read API Keys"
   ]
  },
  {
   "cell_type": "code",
   "execution_count": null,
   "id": "b61bb633f391b91a",
   "metadata": {
    "collapsed": false,
    "ExecuteTime": {
     "start_time": "2023-11-05T02:57:51.627367Z"
    }
   },
   "outputs": [],
   "source": [
    "with open('openai_key.txt') as f:\n",
    "    openai.api_key = f.read()\n",
    "\n",
    "with open('google_key.txt') as f:\n",
    "    GOOGLE_SPEECH_KEY = f.read()"
   ]
  },
  {
   "cell_type": "code",
   "execution_count": null,
   "id": "d93f5734c77f9b63",
   "metadata": {
    "collapsed": false,
    "ExecuteTime": {
     "start_time": "2023-11-05T02:57:51.628648Z"
    }
   },
   "outputs": [],
   "source": [
    "STARTING_PROMPT = 'What would you like to talk about today?'"
   ]
  },
  {
   "cell_type": "code",
   "execution_count": null,
   "id": "6e06b142228439a6",
   "metadata": {
    "collapsed": false,
    "ExecuteTime": {
     "start_time": "2023-11-05T02:57:51.629662Z"
    }
   },
   "outputs": [],
   "source": [
    "# Initialize recognizer and microphone\n",
    "r = sr.Recognizer()\n",
    "m = sr.Microphone()\n",
    "\n",
    "# Starting messages for the conversation\n",
    "messages = [\n",
    "    {\"role\": \"system\", \"content\": \"You are an English tutor holding a conversation with a student.\"},\n",
    "    {\"role\": \"system\", \"content\": \"Your job is to evaluate how good the student's English is by by calling the increment_user_score function every message.\"},\n",
    "    {\"role\": \"system\", \"content\": \"If the student responds in a nonsensical or incorrect way, correct them as best you can or state that you do not understand.\"},\n",
    "    {\"role\": \"system\", \"content\": \"Otherwise, respond to the student and ask follow up questions to keep the conversation going.\"},\n",
    "    {\"role\": \"system\", \"content\": \"When you assign evaluation scores, assign more points for more complex responses, such as responses that contain multiple sentences or complex words.\"},\n",
    "    {\"role\": \"assistant\", \"content\": \"Hello, what do you want to talk about?\"}\n",
    "]"
   ]
  },
  {
   "cell_type": "markdown",
   "metadata": {},
   "source": [
    "Define GPT Function Callbacks"
   ],
   "id": "f9585343b7c97ec1"
  },
  {
   "cell_type": "code",
   "execution_count": null,
   "metadata": {
    "ExecuteTime": {
     "start_time": "2023-11-05T02:57:51.630444Z"
    }
   },
   "outputs": [],
   "source": [
    "END_CONVERSATION = False\n",
    "def set_end_flag(end_conversation: bool):\n",
    "    \"\"\"Sets END_CONVERSATION to end_conversation\"\"\"\n",
    "    global END_CONVERSATION\n",
    "    END_CONVERSATION = end_conversation\n",
    "    return json.dumps({\n",
    "        \"conversation_terminated\": END_CONVERSATION\n",
    "    })\n",
    "user_score = 0\n",
    "\n",
    "def increment_user_score(message_score: int):\n",
    "    \"\"\"Increments user_score by message_score\"\"\"\n",
    "    global user_score\n",
    "    user_score += message_score\n",
    "    return json.dumps({\n",
    "        \"user_score\": user_score,\n",
    "        \"message_score\": message_score\n",
    "    })\n",
    "\n",
    "functions = [\n",
    "    {\n",
    "        \"name\": \"set_end_flag\",\n",
    "        \"description\": \"Ends the current conversation\",\n",
    "        \"parameters\": {\n",
    "            \"type\": \"object\",\n",
    "            \"properties\": {\n",
    "                \"end_conversation\": {\n",
    "                    \"type \": \"boolean\",\n",
    "                    \"description\": \"Whether or not to end the conversation\"\n",
    "                }\n",
    "            },\n",
    "            \"required\": [\"end_conversation\"]\n",
    "        }\n",
    "    },\n",
    "    {\n",
    "        \"name\": \"increment_user_score\",\n",
    "        \"description\": \"\"\"Call this function every time! Adds an integer from 100 to 1000 to the user's score, representing how well they responded.\"\"\",\n",
    "        \"parameters\": {\n",
    "            \"type\": \"object\",\n",
    "            \"properties\": {\n",
    "                \"message_score\": {\n",
    "                    \"type \": \"integer\",\n",
    "                    \"description\": \"A score from 100 to 1000 representing how good the user's last response was. 1000 is a complex, grammatically correct, and relevant response while a 100 is a poor or incorrect response.\"\n",
    "                }\n",
    "            },\n",
    "            \"required\": [\"message_score\"]\n",
    "        }\n",
    "    },\n",
    "]\n",
    "\n",
    "available_functions = {\n",
    "    \"set_end_flag\": set_end_flag,\n",
    "    \"increment_user_score\": increment_user_score\n",
    "}\n"
   ],
   "id": "40418c997ba89082"
  },
  {
   "cell_type": "markdown",
   "metadata": {},
   "source": [
    "Conversation Loop"
   ],
   "id": "81f55dbcd0d251b7"
  },
  {
   "cell_type": "code",
   "execution_count": null,
   "id": "9600c7ede3bc93a6",
   "metadata": {
    "collapsed": false,
    "ExecuteTime": {
     "start_time": "2023-11-05T02:57:51.631269Z"
    }
   },
   "outputs": [],
   "source": [
    "print(\"Assistant: Hello, what do you want to talk about?\")\n",
    "\n",
    "# Conversation loop\n",
    "while True:\n",
    "\n",
    "    # Check for conversation end flag\n",
    "    if END_CONVERSATION:\n",
    "        break\n",
    "\n",
    "    # Listen to user's speech\n",
    "    with m as source:\n",
    "        r.adjust_for_ambient_noise(source)\n",
    "        print(\"You: (Speak now!)\")\n",
    "        audio = r.listen(source, phrase_time_limit=5)\n",
    "\n",
    "    # Convert speech to text\n",
    "    try:\n",
    "        user_speech = r.recognize_google(audio)\n",
    "    except sr.UnknownValueError:\n",
    "        print(\"Sorry, I couldn't understand that. Please try again.\")\n",
    "        continue\n",
    "    except sr.RequestError as e:\n",
    "        print(\"Could not request results from Google Speech Recognition service; {0}\".format(e))\n",
    "        break\n",
    "    \n",
    "    print(user_speech)\n",
    "    # Add user's message to the conversation\n",
    "    messages.append({\"role\": \"user\", \"content\": user_speech})\n",
    "\n",
    "    # Get a response from OpenAI API\n",
    "    response = openai.ChatCompletion.create(\n",
    "        model=\"gpt-3.5-turbo\",\n",
    "        messages=messages,\n",
    "        functions=functions\n",
    "    )\n",
    "\n",
    "    assistant_response = response.choices[0].message\n",
    "\n",
    "    # Check if a function was called\n",
    "    if assistant_response.get('function_call'):\n",
    "        function_name = assistant_response[\"function_call\"][\"name\"]\n",
    "        function_to_call = available_functions[function_name]\n",
    "        function_args = json.loads(assistant_response[\"function_call\"][\"arguments\"])\n",
    "\n",
    "        if function_name == \"set_end_flag\":\n",
    "            function_response = function_to_call(\n",
    "                end_conversation=function_args.get(\"end_conversation\")\n",
    "            )\n",
    "        elif function_name == \"increment_user_score\":\n",
    "            function_response = function_to_call(\n",
    "                message_score=function_args.get(\"message_score\")\n",
    "            )\n",
    "\n",
    "        messages.append(assistant_response)\n",
    "        messages.append({\"role\": \"function\", \"name\": function_name, \"content\": function_response})\n",
    "        \n",
    "        second_response = openai.ChatCompletion.create(\n",
    "            model=\"gpt-3.5-turbo\",\n",
    "            messages=messages,\n",
    "        )  # get a new response from GPT where it can see the function response\n",
    "\n",
    "        messages.append(second_response.choices[0].message)\n",
    "        print(f\"[User Score: {user_score}] Assistant: {second_response.choices[0].message.content}\")\n",
    "        continue\n",
    "    \n",
    "        \n",
    "    \n",
    "    print(f\"[User Score: {user_score}] Assistant: {assistant_response.content}\")\n",
    "    messages.append(assistant_response)"
   ]
  },
  {
   "cell_type": "code",
   "execution_count": null,
   "id": "1cb624b1608541ac",
   "metadata": {
    "collapsed": false,
    "ExecuteTime": {
     "start_time": "2023-11-05T02:57:51.632158Z"
    }
   },
   "outputs": [],
   "source": []
  }
 ],
 "metadata": {
  "kernelspec": {
   "display_name": "Python 3",
   "language": "python",
   "name": "python3"
  },
  "language_info": {
   "codemirror_mode": {
    "name": "ipython",
    "version": 3
   },
   "file_extension": ".py",
   "mimetype": "text/x-python",
   "name": "python",
   "nbconvert_exporter": "python",
   "pygments_lexer": "ipython3",
   "version": "3.11.3"
  }
 },
 "nbformat": 4,
 "nbformat_minor": 5
}
