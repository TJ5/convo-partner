{
 "cells": [
  {
   "cell_type": "code",
   "execution_count": 47,
   "id": "initial_id",
   "metadata": {
    "collapsed": true,
    "ExecuteTime": {
     "end_time": "2023-11-04T23:05:15.636140Z",
     "start_time": "2023-11-04T23:05:15.629643Z"
    }
   },
   "outputs": [],
   "source": [
    "import os\n",
    "import openai\n",
    "import speech_recognition as sr\n",
    "import time"
   ]
  },
  {
   "cell_type": "markdown",
   "id": "925bc119",
   "metadata": {},
   "source": [
    "Read API Keys"
   ]
  },
  {
   "cell_type": "code",
   "execution_count": 48,
   "id": "b61bb633f391b91a",
   "metadata": {
    "collapsed": false,
    "ExecuteTime": {
     "end_time": "2023-11-04T23:05:15.636885Z",
     "start_time": "2023-11-04T23:05:15.633416Z"
    }
   },
   "outputs": [],
   "source": [
    "# with open('secret_key.txt') as f:\n",
    "#     key = f.read()\n",
    "# openai.api_key = key\n",
    "\n",
    "with open('google_key.txt') as f:\n",
    "    GOOGLE_SPEECH_KEY = f.read()"
   ]
  },
  {
   "cell_type": "code",
   "execution_count": 49,
   "id": "98fee9db98b16e05",
   "metadata": {
    "collapsed": false,
    "ExecuteTime": {
     "end_time": "2023-11-04T23:05:25.769350Z",
     "start_time": "2023-11-04T23:05:15.639583Z"
    }
   },
   "outputs": [
    {
     "name": "stdout",
     "output_type": "stream",
     "text": [
      "Say something!\n",
      "Done!\n"
     ]
    }
   ],
   "source": [
    "r = sr.Recognizer()\n",
    "\n",
    "m = sr.Microphone()\n",
    "with m as source:\n",
    "    r.adjust_for_ambient_noise(source)\n",
    "    print(\"Say something!\")\n",
    "    \n",
    "    audio = r.listen(source)\n",
    "    print(\"Done!\")\n"
   ]
  },
  {
   "cell_type": "code",
   "execution_count": 50,
   "outputs": [
    {
     "name": "stdout",
     "output_type": "stream",
     "text": [
      "Google Speech Recognition thinks you said talk for a long time and then I'm going to keep talking but you know I'm not have small little gaps like this\n"
     ]
    }
   ],
   "source": [
    "try:\n",
    "    # for testing purposes, we're just using the default API key\n",
    "    # to use another API key, use `r.recognize_google(audio, key=\"GOOGLE_SPEECH_RECOGNITION_API_KEY\")`\n",
    "    # instead of `r.recognize_google(audio)`\n",
    "    print(\"Google Speech Recognition thinks you said \" + r.recognize_google(audio))\n",
    "except sr.UnknownValueError:\n",
    "    print(\"Google Speech Recognition could not understand audio\")\n",
    "except sr.RequestError as e:\n",
    "    print(\"Could not request results from Google Speech Recognition service; {0}\".format(e))"
   ],
   "metadata": {
    "collapsed": false,
    "ExecuteTime": {
     "end_time": "2023-11-04T23:05:30.181236Z",
     "start_time": "2023-11-04T23:05:25.772826Z"
    }
   },
   "id": "69a71ca94b7277e0"
  }
 ],
 "metadata": {
  "kernelspec": {
   "display_name": "Python 3",
   "language": "python",
   "name": "python3"
  },
  "language_info": {
   "codemirror_mode": {
    "name": "ipython",
    "version": 3
   },
   "file_extension": ".py",
   "mimetype": "text/x-python",
   "name": "python",
   "nbconvert_exporter": "python",
   "pygments_lexer": "ipython3",
   "version": "3.11.3"
  }
 },
 "nbformat": 4,
 "nbformat_minor": 5
}
