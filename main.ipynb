{
 "cells": [
  {
   "cell_type": "code",
   "execution_count": 19,
   "id": "initial_id",
   "metadata": {
    "ExecuteTime": {
     "end_time": "2023-11-04T23:10:45.500999Z",
     "start_time": "2023-11-04T23:10:45.464064Z"
    },
    "collapsed": true
   },
   "outputs": [],
   "source": [
    "import os\n",
    "import openai\n",
    "import speech_recognition as sr\n",
    "import time\n",
    "import json"
   ]
  },
  {
   "cell_type": "markdown",
   "id": "925bc119",
   "metadata": {},
   "source": [
    "Read API Keys"
   ]
  },
  {
   "cell_type": "code",
   "execution_count": 20,
   "id": "b61bb633f391b91a",
   "metadata": {
    "ExecuteTime": {
     "end_time": "2023-11-04T23:10:45.505289Z",
     "start_time": "2023-11-04T23:10:45.467757Z"
    },
    "collapsed": false
   },
   "outputs": [],
   "source": [
    "with open('openai_key.txt') as f:\n",
    "    openai.api_key = f.read()\n",
    "\n",
    "with open('google_key.txt') as f:\n",
    "    GOOGLE_SPEECH_KEY = f.read()"
   ]
  },
  {
   "cell_type": "code",
   "execution_count": 21,
   "id": "d93f5734c77f9b63",
   "metadata": {
    "ExecuteTime": {
     "end_time": "2023-11-04T23:10:45.505933Z",
     "start_time": "2023-11-04T23:10:45.474877Z"
    },
    "collapsed": false
   },
   "outputs": [],
   "source": [
    "STARTING_PROMPT = 'What would you like to talk about today?'"
   ]
  },
  {
   "cell_type": "code",
   "execution_count": 22,
   "id": "6e06b142228439a6",
   "metadata": {
    "ExecuteTime": {
     "end_time": "2023-11-04T23:36:41.290805Z",
     "start_time": "2023-11-04T23:36:41.262561Z"
    },
    "collapsed": false
   },
   "outputs": [],
   "source": [
    "# Initialize recognizer and microphone\n",
    "r = sr.Recognizer()\n",
    "m = sr.Microphone()\n",
    "\n",
    "# Starting messages for the conversation\n",
    "messages = [\n",
    "    {\"role\": \"system\", \"content\": \"You are an English tutor holding a conversation with a student.\"},\n",
    "    {\"role\": \"system\", \"content\": \"Your job is to evaluate how good the student's English is by by calling the increment_user_score function every message.\"},\n",
    "    {\"role\": \"system\", \"content\": \"If the student responds in a nonsensical or incorrect way, correct them as best you can or state that you do not understand.\"},\n",
    "    {\"role\": \"system\", \"content\": \"Otherwise, respond to the student and ask follow up questions to keep the conversation going.\"},\n",
    "    {\"role\": \"assistant\", \"content\": \"Hello, what do you want to talk about?\"}\n",
    "]"
   ]
  },
  {
   "cell_type": "markdown",
   "metadata": {},
   "source": [
    "Define GPT Function Callbacks"
   ]
  },
  {
   "cell_type": "code",
   "execution_count": 23,
   "metadata": {},
   "outputs": [],
   "source": [
    "END_CONVERSATION = False\n",
    "def set_end_flag(end_conversation: bool):\n",
    "    \"\"\"Sets END_CONVERSATION to end_conversation\"\"\"\n",
    "    global END_CONVERSATION\n",
    "    END_CONVERSATION = end_conversation\n",
    "    return json.dumps({\n",
    "        \"conversation_terminated\": END_CONVERSATION\n",
    "    })\n",
    "user_score = 0\n",
    "\n",
    "def increment_user_score(message_score: int):\n",
    "    \"\"\"Increments user_score by message_score\"\"\"\n",
    "    global user_score\n",
    "    user_score += message_score\n",
    "    return json.dumps({\n",
    "        \"user_score\": user_score,\n",
    "        \"message_score\": message_score\n",
    "    })\n",
    "\n",
    "functions = [\n",
    "    {\n",
    "        \"name\": \"set_end_flag\",\n",
    "        \"description\": \"Ends the current conversation\",\n",
    "        \"parameters\": {\n",
    "            \"type\": \"object\",\n",
    "            \"properties\": {\n",
    "                \"end_conversation\": {\n",
    "                    \"type \": \"boolean\",\n",
    "                    \"description\": \"Whether or not to end the conversation\"\n",
    "                }\n",
    "            },\n",
    "            \"required\": [\"end_conversation\"]\n",
    "        }\n",
    "    },\n",
    "    {\n",
    "        \"name\": \"increment_user_score\",\n",
    "        \"description\": \"\"\"Call this function every time! Adds an integer from 1 to 10 to the user's score, representing how well they responded.\"\"\",\n",
    "        \"parameters\": {\n",
    "            \"type\": \"object\",\n",
    "            \"properties\": {\n",
    "                \"message_score\": {\n",
    "                    \"type \": \"integer\",\n",
    "                    \"description\": \"A score from 1 to 10 representing how good the user's last response was. 10 is perfect, while a 1 is a poor or incorrect response.\"\n",
    "                }\n",
    "            },\n",
    "            \"required\": [\"message_score\"]\n",
    "        }\n",
    "    },\n",
    "]\n",
    "\n",
    "available_functions = {\n",
    "    \"set_end_flag\": set_end_flag,\n",
    "    \"increment_user_score\": increment_user_score\n",
    "}\n"
   ]
  },
  {
   "cell_type": "markdown",
   "metadata": {},
   "source": [
    "Conversation Loop"
   ]
  },
  {
   "cell_type": "code",
   "execution_count": 24,
   "id": "9600c7ede3bc93a6",
   "metadata": {
    "ExecuteTime": {
     "end_time": "2023-11-04T23:38:00.010177Z",
     "start_time": "2023-11-04T23:37:08.953237Z"
    },
    "collapsed": false
   },
   "outputs": [
    {
     "name": "stdout",
     "output_type": "stream",
     "text": [
      "Assistant: Hello, what do you want to talk about?\n",
      "You: (Speak now!)\n",
      "I'd like to talk about the weather\n",
      "{\n",
      "  \"name\": \"increment_user_score\",\n",
      "  \"arguments\": \"{\\n  \\\"message_score\\\": 9\\n}\"\n",
      "}\n",
      "Function increment_user_score returned {\"user_score\": 9, \"message_score\": 9}\n",
      "Assistant: Great, let's talk about the weather. What's the weather like where you are right now?\n",
      "You: (Speak now!)\n",
      "Apple\n",
      "{\n",
      "  \"name\": \"increment_user_score\",\n",
      "  \"arguments\": \"{\\n  \\\"message_score\\\": 2\\n}\"\n",
      "}\n",
      "Function increment_user_score returned {\"user_score\": 11, \"message_score\": 2}\n",
      "Assistant: I'm sorry, but I don't understand what you mean by \"Apple\" in the context of the weather. Can you please provide more information or clarify your question?\n",
      "You: (Speak now!)\n",
      "okay this is actually working\n",
      "{\n",
      "  \"name\": \"increment_user_score\",\n",
      "  \"arguments\": \"{\\n  \\\"message_score\\\": 10\\n}\"\n",
      "}\n",
      "Function increment_user_score returned {\"user_score\": 21, \"message_score\": 10}\n",
      "Assistant: I'm glad to hear that it's working for you! Is there anything specific you would like to discuss about the weather? Temperature, humidity, or any interesting weather phenomena in your area?\n",
      "You: (Speak now!)\n",
      "are you sure that\n",
      "{\n",
      "  \"name\": \"increment_user_score\",\n",
      "  \"arguments\": \"{\\n  \\\"message_score\\\": 6\\n}\"\n",
      "}\n",
      "Function increment_user_score returned {\"user_score\": 27, \"message_score\": 6}\n",
      "Assistant: I'm sorry, it seems like your message got cut off. Could you please complete your sentence or clarify your question?\n",
      "You: (Speak now!)\n"
     ]
    },
    {
     "ename": "KeyboardInterrupt",
     "evalue": "",
     "output_type": "error",
     "traceback": [
      "\u001b[1;31m---------------------------------------------------------------------------\u001b[0m",
      "\u001b[1;31mKeyboardInterrupt\u001b[0m                         Traceback (most recent call last)",
      "\u001b[1;32mc:\\Users\\tejes\\Documents\\convo-partner\\main.ipynb Cell 9\u001b[0m line \u001b[0;36m1\n\u001b[0;32m     <a href='vscode-notebook-cell:/c%3A/Users/tejes/Documents/convo-partner/main.ipynb#X30sZmlsZQ%3D%3D?line=11'>12</a>\u001b[0m     r\u001b[39m.\u001b[39madjust_for_ambient_noise(source)\n\u001b[0;32m     <a href='vscode-notebook-cell:/c%3A/Users/tejes/Documents/convo-partner/main.ipynb#X30sZmlsZQ%3D%3D?line=12'>13</a>\u001b[0m     \u001b[39mprint\u001b[39m(\u001b[39m\"\u001b[39m\u001b[39mYou: (Speak now!)\u001b[39m\u001b[39m\"\u001b[39m)\n\u001b[1;32m---> <a href='vscode-notebook-cell:/c%3A/Users/tejes/Documents/convo-partner/main.ipynb#X30sZmlsZQ%3D%3D?line=13'>14</a>\u001b[0m     audio \u001b[39m=\u001b[39m r\u001b[39m.\u001b[39;49mlisten(source, phrase_time_limit\u001b[39m=\u001b[39;49m\u001b[39m5\u001b[39;49m)\n\u001b[0;32m     <a href='vscode-notebook-cell:/c%3A/Users/tejes/Documents/convo-partner/main.ipynb#X30sZmlsZQ%3D%3D?line=15'>16</a>\u001b[0m \u001b[39m# Convert speech to text\u001b[39;00m\n\u001b[0;32m     <a href='vscode-notebook-cell:/c%3A/Users/tejes/Documents/convo-partner/main.ipynb#X30sZmlsZQ%3D%3D?line=16'>17</a>\u001b[0m \u001b[39mtry\u001b[39;00m:\n",
      "File \u001b[1;32mc:\\Users\\tejes\\Documents\\convo-partner\\.venv\\Lib\\site-packages\\speech_recognition\\__init__.py:491\u001b[0m, in \u001b[0;36mRecognizer.listen\u001b[1;34m(self, source, timeout, phrase_time_limit, snowboy_configuration)\u001b[0m\n\u001b[0;32m    488\u001b[0m \u001b[39mif\u001b[39;00m timeout \u001b[39mand\u001b[39;00m elapsed_time \u001b[39m>\u001b[39m timeout:\n\u001b[0;32m    489\u001b[0m     \u001b[39mraise\u001b[39;00m WaitTimeoutError(\u001b[39m\"\u001b[39m\u001b[39mlistening timed out while waiting for phrase to start\u001b[39m\u001b[39m\"\u001b[39m)\n\u001b[1;32m--> 491\u001b[0m buffer \u001b[39m=\u001b[39m source\u001b[39m.\u001b[39;49mstream\u001b[39m.\u001b[39;49mread(source\u001b[39m.\u001b[39;49mCHUNK)\n\u001b[0;32m    492\u001b[0m \u001b[39mif\u001b[39;00m \u001b[39mlen\u001b[39m(buffer) \u001b[39m==\u001b[39m \u001b[39m0\u001b[39m: \u001b[39mbreak\u001b[39;00m  \u001b[39m# reached end of the stream\u001b[39;00m\n\u001b[0;32m    493\u001b[0m frames\u001b[39m.\u001b[39mappend(buffer)\n",
      "File \u001b[1;32mc:\\Users\\tejes\\Documents\\convo-partner\\.venv\\Lib\\site-packages\\speech_recognition\\__init__.py:199\u001b[0m, in \u001b[0;36mMicrophone.MicrophoneStream.read\u001b[1;34m(self, size)\u001b[0m\n\u001b[0;32m    198\u001b[0m \u001b[39mdef\u001b[39;00m \u001b[39mread\u001b[39m(\u001b[39mself\u001b[39m, size):\n\u001b[1;32m--> 199\u001b[0m     \u001b[39mreturn\u001b[39;00m \u001b[39mself\u001b[39;49m\u001b[39m.\u001b[39;49mpyaudio_stream\u001b[39m.\u001b[39;49mread(size, exception_on_overflow\u001b[39m=\u001b[39;49m\u001b[39mFalse\u001b[39;49;00m)\n",
      "File \u001b[1;32mc:\\Users\\tejes\\Documents\\convo-partner\\.venv\\Lib\\site-packages\\pyaudio\\__init__.py:570\u001b[0m, in \u001b[0;36mPyAudio.Stream.read\u001b[1;34m(self, num_frames, exception_on_overflow)\u001b[0m\n\u001b[0;32m    567\u001b[0m \u001b[39mif\u001b[39;00m \u001b[39mnot\u001b[39;00m \u001b[39mself\u001b[39m\u001b[39m.\u001b[39m_is_input:\n\u001b[0;32m    568\u001b[0m     \u001b[39mraise\u001b[39;00m \u001b[39mIOError\u001b[39;00m(\u001b[39m\"\u001b[39m\u001b[39mNot input stream\u001b[39m\u001b[39m\"\u001b[39m,\n\u001b[0;32m    569\u001b[0m                   paCanNotReadFromAnOutputOnlyStream)\n\u001b[1;32m--> 570\u001b[0m \u001b[39mreturn\u001b[39;00m pa\u001b[39m.\u001b[39;49mread_stream(\u001b[39mself\u001b[39;49m\u001b[39m.\u001b[39;49m_stream, num_frames,\n\u001b[0;32m    571\u001b[0m                       exception_on_overflow)\n",
      "\u001b[1;31mKeyboardInterrupt\u001b[0m: "
     ]
    }
   ],
   "source": [
    "print(\"Assistant: Hello, what do you want to talk about?\")\n",
    "\n",
    "# Conversation loop\n",
    "while True:\n",
    "\n",
    "    # Check for conversation end flag\n",
    "    if END_CONVERSATION:\n",
    "        break\n",
    "\n",
    "    # Listen to user's speech\n",
    "    with m as source:\n",
    "        r.adjust_for_ambient_noise(source)\n",
    "        print(\"You: (Speak now!)\")\n",
    "        audio = r.listen(source, phrase_time_limit=5)\n",
    "\n",
    "    # Convert speech to text\n",
    "    try:\n",
    "        user_speech = r.recognize_google(audio)\n",
    "    except sr.UnknownValueError:\n",
    "        print(\"Sorry, I couldn't understand that. Please try again.\")\n",
    "        continue\n",
    "    except sr.RequestError as e:\n",
    "        print(\"Could not request results from Google Speech Recognition service; {0}\".format(e))\n",
    "        break\n",
    "    \n",
    "    print(user_speech)\n",
    "    # Add user's message to the conversation\n",
    "    messages.append({\"role\": \"user\", \"content\": user_speech})\n",
    "\n",
    "    # Get a response from OpenAI API\n",
    "    response = openai.ChatCompletion.create(\n",
    "        model=\"gpt-3.5-turbo\",\n",
    "        messages=messages,\n",
    "        functions=functions\n",
    "    )\n",
    "\n",
    "    assistant_response = response.choices[0].message\n",
    "\n",
    "    # Check if a function was called\n",
    "    print(assistant_response.get('function_call'))\n",
    "    if assistant_response.get('function_call'):\n",
    "        function_name = assistant_response[\"function_call\"][\"name\"]\n",
    "        function_to_call = available_functions[function_name]\n",
    "        function_args = json.loads(assistant_response[\"function_call\"][\"arguments\"])\n",
    "\n",
    "        if function_name == \"set_end_flag\":\n",
    "            function_response = function_to_call(\n",
    "                end_conversation=function_args.get(\"end_conversation\")\n",
    "            )\n",
    "        elif function_name == \"increment_user_score\":\n",
    "            function_response = function_to_call(\n",
    "                message_score=function_args.get(\"message_score\")\n",
    "            )\n",
    "        print(f\"Function {function_name} returned {function_response}\")\n",
    "\n",
    "\n",
    "        messages.append(assistant_response)\n",
    "        messages.append({\"role\": \"function\", \"name\": function_name, \"content\": function_response})\n",
    "        \n",
    "        second_response = openai.ChatCompletion.create(\n",
    "            model=\"gpt-3.5-turbo\",\n",
    "            messages=messages,\n",
    "        )  # get a new response from GPT where it can see the function response\n",
    "\n",
    "        messages.append(second_response.choices[0].message)\n",
    "        print(f\"Assistant: {second_response.choices[0].message.content}\")\n",
    "        continue\n",
    "    \n",
    "        \n",
    "    \n",
    "    print(f\"Assistant: {assistant_response.content}\")\n",
    "    messages.append(assistant_response)"
   ]
  },
  {
   "cell_type": "code",
   "execution_count": null,
   "id": "1cb624b1608541ac",
   "metadata": {
    "collapsed": false
   },
   "outputs": [],
   "source": []
  }
 ],
 "metadata": {
  "kernelspec": {
   "display_name": "Python 3",
   "language": "python",
   "name": "python3"
  },
  "language_info": {
   "codemirror_mode": {
    "name": "ipython",
    "version": 3
   },
   "file_extension": ".py",
   "mimetype": "text/x-python",
   "name": "python",
   "nbconvert_exporter": "python",
   "pygments_lexer": "ipython3",
   "version": "3.11.3"
  }
 },
 "nbformat": 4,
 "nbformat_minor": 5
}
